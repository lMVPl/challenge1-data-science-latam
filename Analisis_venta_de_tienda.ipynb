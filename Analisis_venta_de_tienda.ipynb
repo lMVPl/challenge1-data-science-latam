{
  "nbformat": 4,
  "nbformat_minor": 0,
  "metadata": {
    "colab": {
      "provenance": []
    },
    "kernelspec": {
      "name": "python3",
      "display_name": "Python 3"
    },
    "language_info": {
      "name": "python"
    }
  },
  "cells": [
    {
      "cell_type": "markdown",
      "source": [
        "## <font color=AF3E3E> Análisis para la Venta de Tienda 📊\n",
        "---"
      ],
      "metadata": {
        "id": "DTu4k8xjkLs0"
      }
    },
    {
      "cell_type": "markdown",
      "source": [
        "# Importación de datos\n",
        "\n"
      ],
      "metadata": {
        "id": "RhEdWd9YUR6H"
      }
    },
    {
      "cell_type": "code",
      "execution_count": 37,
      "metadata": {
        "colab": {
          "base_uri": "https://localhost:8080/",
          "height": 293
        },
        "id": "T3EvaeQ_INIL",
        "outputId": "9a0ba6ae-9a42-424a-e71e-ad14c7a718cc"
      },
      "outputs": [
        {
          "output_type": "execute_result",
          "data": {
            "text/plain": [
              "            Producto Categoría del Producto    Precio  Costo de envío  \\\n",
              "0  Asistente virtual           Electrónicos  164300.0          6900.0   \n",
              "1    Mesa de comedor                Muebles  192300.0          8400.0   \n",
              "2      Juego de mesa               Juguetes  209600.0         15900.0   \n",
              "3         Microondas      Electrodomésticos  757500.0         41000.0   \n",
              "4   Silla de oficina                Muebles  335200.0         20200.0   \n",
              "\n",
              "  Fecha de Compra         Vendedor Lugar de Compra  Calificación  \\\n",
              "0      16/01/2021      Pedro Gomez          Bogotá             4   \n",
              "1      18/05/2022  Beatriz Morales        Medellín             1   \n",
              "2      15/03/2021   Juan Fernandez       Cartagena             1   \n",
              "3      03/05/2022   Juan Fernandez            Cali             4   \n",
              "4      07/11/2020    Maria Alfonso        Medellín             5   \n",
              "\n",
              "       Método de pago  Cantidad de cuotas       lat       lon  \n",
              "0  Tarjeta de crédito                   8   4.60971 -74.08175  \n",
              "1  Tarjeta de crédito                   4   6.25184 -75.56359  \n",
              "2  Tarjeta de crédito                   1  10.39972 -75.51444  \n",
              "3               Nequi                   1   3.43722 -76.52250  \n",
              "4               Nequi                   1   6.25184 -75.56359  "
            ],
            "text/html": [
              "\n",
              "  <div id=\"df-997dcf31-d883-4d17-ba9b-16b444f7b701\" class=\"colab-df-container\">\n",
              "    <div>\n",
              "<style scoped>\n",
              "    .dataframe tbody tr th:only-of-type {\n",
              "        vertical-align: middle;\n",
              "    }\n",
              "\n",
              "    .dataframe tbody tr th {\n",
              "        vertical-align: top;\n",
              "    }\n",
              "\n",
              "    .dataframe thead th {\n",
              "        text-align: right;\n",
              "    }\n",
              "</style>\n",
              "<table border=\"1\" class=\"dataframe\">\n",
              "  <thead>\n",
              "    <tr style=\"text-align: right;\">\n",
              "      <th></th>\n",
              "      <th>Producto</th>\n",
              "      <th>Categoría del Producto</th>\n",
              "      <th>Precio</th>\n",
              "      <th>Costo de envío</th>\n",
              "      <th>Fecha de Compra</th>\n",
              "      <th>Vendedor</th>\n",
              "      <th>Lugar de Compra</th>\n",
              "      <th>Calificación</th>\n",
              "      <th>Método de pago</th>\n",
              "      <th>Cantidad de cuotas</th>\n",
              "      <th>lat</th>\n",
              "      <th>lon</th>\n",
              "    </tr>\n",
              "  </thead>\n",
              "  <tbody>\n",
              "    <tr>\n",
              "      <th>0</th>\n",
              "      <td>Asistente virtual</td>\n",
              "      <td>Electrónicos</td>\n",
              "      <td>164300.0</td>\n",
              "      <td>6900.0</td>\n",
              "      <td>16/01/2021</td>\n",
              "      <td>Pedro Gomez</td>\n",
              "      <td>Bogotá</td>\n",
              "      <td>4</td>\n",
              "      <td>Tarjeta de crédito</td>\n",
              "      <td>8</td>\n",
              "      <td>4.60971</td>\n",
              "      <td>-74.08175</td>\n",
              "    </tr>\n",
              "    <tr>\n",
              "      <th>1</th>\n",
              "      <td>Mesa de comedor</td>\n",
              "      <td>Muebles</td>\n",
              "      <td>192300.0</td>\n",
              "      <td>8400.0</td>\n",
              "      <td>18/05/2022</td>\n",
              "      <td>Beatriz Morales</td>\n",
              "      <td>Medellín</td>\n",
              "      <td>1</td>\n",
              "      <td>Tarjeta de crédito</td>\n",
              "      <td>4</td>\n",
              "      <td>6.25184</td>\n",
              "      <td>-75.56359</td>\n",
              "    </tr>\n",
              "    <tr>\n",
              "      <th>2</th>\n",
              "      <td>Juego de mesa</td>\n",
              "      <td>Juguetes</td>\n",
              "      <td>209600.0</td>\n",
              "      <td>15900.0</td>\n",
              "      <td>15/03/2021</td>\n",
              "      <td>Juan Fernandez</td>\n",
              "      <td>Cartagena</td>\n",
              "      <td>1</td>\n",
              "      <td>Tarjeta de crédito</td>\n",
              "      <td>1</td>\n",
              "      <td>10.39972</td>\n",
              "      <td>-75.51444</td>\n",
              "    </tr>\n",
              "    <tr>\n",
              "      <th>3</th>\n",
              "      <td>Microondas</td>\n",
              "      <td>Electrodomésticos</td>\n",
              "      <td>757500.0</td>\n",
              "      <td>41000.0</td>\n",
              "      <td>03/05/2022</td>\n",
              "      <td>Juan Fernandez</td>\n",
              "      <td>Cali</td>\n",
              "      <td>4</td>\n",
              "      <td>Nequi</td>\n",
              "      <td>1</td>\n",
              "      <td>3.43722</td>\n",
              "      <td>-76.52250</td>\n",
              "    </tr>\n",
              "    <tr>\n",
              "      <th>4</th>\n",
              "      <td>Silla de oficina</td>\n",
              "      <td>Muebles</td>\n",
              "      <td>335200.0</td>\n",
              "      <td>20200.0</td>\n",
              "      <td>07/11/2020</td>\n",
              "      <td>Maria Alfonso</td>\n",
              "      <td>Medellín</td>\n",
              "      <td>5</td>\n",
              "      <td>Nequi</td>\n",
              "      <td>1</td>\n",
              "      <td>6.25184</td>\n",
              "      <td>-75.56359</td>\n",
              "    </tr>\n",
              "  </tbody>\n",
              "</table>\n",
              "</div>\n",
              "    <div class=\"colab-df-buttons\">\n",
              "\n",
              "  <div class=\"colab-df-container\">\n",
              "    <button class=\"colab-df-convert\" onclick=\"convertToInteractive('df-997dcf31-d883-4d17-ba9b-16b444f7b701')\"\n",
              "            title=\"Convert this dataframe to an interactive table.\"\n",
              "            style=\"display:none;\">\n",
              "\n",
              "  <svg xmlns=\"http://www.w3.org/2000/svg\" height=\"24px\" viewBox=\"0 -960 960 960\">\n",
              "    <path d=\"M120-120v-720h720v720H120Zm60-500h600v-160H180v160Zm220 220h160v-160H400v160Zm0 220h160v-160H400v160ZM180-400h160v-160H180v160Zm440 0h160v-160H620v160ZM180-180h160v-160H180v160Zm440 0h160v-160H620v160Z\"/>\n",
              "  </svg>\n",
              "    </button>\n",
              "\n",
              "  <style>\n",
              "    .colab-df-container {\n",
              "      display:flex;\n",
              "      gap: 12px;\n",
              "    }\n",
              "\n",
              "    .colab-df-convert {\n",
              "      background-color: #E8F0FE;\n",
              "      border: none;\n",
              "      border-radius: 50%;\n",
              "      cursor: pointer;\n",
              "      display: none;\n",
              "      fill: #1967D2;\n",
              "      height: 32px;\n",
              "      padding: 0 0 0 0;\n",
              "      width: 32px;\n",
              "    }\n",
              "\n",
              "    .colab-df-convert:hover {\n",
              "      background-color: #E2EBFA;\n",
              "      box-shadow: 0px 1px 2px rgba(60, 64, 67, 0.3), 0px 1px 3px 1px rgba(60, 64, 67, 0.15);\n",
              "      fill: #174EA6;\n",
              "    }\n",
              "\n",
              "    .colab-df-buttons div {\n",
              "      margin-bottom: 4px;\n",
              "    }\n",
              "\n",
              "    [theme=dark] .colab-df-convert {\n",
              "      background-color: #3B4455;\n",
              "      fill: #D2E3FC;\n",
              "    }\n",
              "\n",
              "    [theme=dark] .colab-df-convert:hover {\n",
              "      background-color: #434B5C;\n",
              "      box-shadow: 0px 1px 3px 1px rgba(0, 0, 0, 0.15);\n",
              "      filter: drop-shadow(0px 1px 2px rgba(0, 0, 0, 0.3));\n",
              "      fill: #FFFFFF;\n",
              "    }\n",
              "  </style>\n",
              "\n",
              "    <script>\n",
              "      const buttonEl =\n",
              "        document.querySelector('#df-997dcf31-d883-4d17-ba9b-16b444f7b701 button.colab-df-convert');\n",
              "      buttonEl.style.display =\n",
              "        google.colab.kernel.accessAllowed ? 'block' : 'none';\n",
              "\n",
              "      async function convertToInteractive(key) {\n",
              "        const element = document.querySelector('#df-997dcf31-d883-4d17-ba9b-16b444f7b701');\n",
              "        const dataTable =\n",
              "          await google.colab.kernel.invokeFunction('convertToInteractive',\n",
              "                                                    [key], {});\n",
              "        if (!dataTable) return;\n",
              "\n",
              "        const docLinkHtml = 'Like what you see? Visit the ' +\n",
              "          '<a target=\"_blank\" href=https://colab.research.google.com/notebooks/data_table.ipynb>data table notebook</a>'\n",
              "          + ' to learn more about interactive tables.';\n",
              "        element.innerHTML = '';\n",
              "        dataTable['output_type'] = 'display_data';\n",
              "        await google.colab.output.renderOutput(dataTable, element);\n",
              "        const docLink = document.createElement('div');\n",
              "        docLink.innerHTML = docLinkHtml;\n",
              "        element.appendChild(docLink);\n",
              "      }\n",
              "    </script>\n",
              "  </div>\n",
              "\n",
              "\n",
              "    <div id=\"df-d832bb26-bf18-46fa-bb52-d4587282c56f\">\n",
              "      <button class=\"colab-df-quickchart\" onclick=\"quickchart('df-d832bb26-bf18-46fa-bb52-d4587282c56f')\"\n",
              "                title=\"Suggest charts\"\n",
              "                style=\"display:none;\">\n",
              "\n",
              "<svg xmlns=\"http://www.w3.org/2000/svg\" height=\"24px\"viewBox=\"0 0 24 24\"\n",
              "     width=\"24px\">\n",
              "    <g>\n",
              "        <path d=\"M19 3H5c-1.1 0-2 .9-2 2v14c0 1.1.9 2 2 2h14c1.1 0 2-.9 2-2V5c0-1.1-.9-2-2-2zM9 17H7v-7h2v7zm4 0h-2V7h2v10zm4 0h-2v-4h2v4z\"/>\n",
              "    </g>\n",
              "</svg>\n",
              "      </button>\n",
              "\n",
              "<style>\n",
              "  .colab-df-quickchart {\n",
              "      --bg-color: #E8F0FE;\n",
              "      --fill-color: #1967D2;\n",
              "      --hover-bg-color: #E2EBFA;\n",
              "      --hover-fill-color: #174EA6;\n",
              "      --disabled-fill-color: #AAA;\n",
              "      --disabled-bg-color: #DDD;\n",
              "  }\n",
              "\n",
              "  [theme=dark] .colab-df-quickchart {\n",
              "      --bg-color: #3B4455;\n",
              "      --fill-color: #D2E3FC;\n",
              "      --hover-bg-color: #434B5C;\n",
              "      --hover-fill-color: #FFFFFF;\n",
              "      --disabled-bg-color: #3B4455;\n",
              "      --disabled-fill-color: #666;\n",
              "  }\n",
              "\n",
              "  .colab-df-quickchart {\n",
              "    background-color: var(--bg-color);\n",
              "    border: none;\n",
              "    border-radius: 50%;\n",
              "    cursor: pointer;\n",
              "    display: none;\n",
              "    fill: var(--fill-color);\n",
              "    height: 32px;\n",
              "    padding: 0;\n",
              "    width: 32px;\n",
              "  }\n",
              "\n",
              "  .colab-df-quickchart:hover {\n",
              "    background-color: var(--hover-bg-color);\n",
              "    box-shadow: 0 1px 2px rgba(60, 64, 67, 0.3), 0 1px 3px 1px rgba(60, 64, 67, 0.15);\n",
              "    fill: var(--button-hover-fill-color);\n",
              "  }\n",
              "\n",
              "  .colab-df-quickchart-complete:disabled,\n",
              "  .colab-df-quickchart-complete:disabled:hover {\n",
              "    background-color: var(--disabled-bg-color);\n",
              "    fill: var(--disabled-fill-color);\n",
              "    box-shadow: none;\n",
              "  }\n",
              "\n",
              "  .colab-df-spinner {\n",
              "    border: 2px solid var(--fill-color);\n",
              "    border-color: transparent;\n",
              "    border-bottom-color: var(--fill-color);\n",
              "    animation:\n",
              "      spin 1s steps(1) infinite;\n",
              "  }\n",
              "\n",
              "  @keyframes spin {\n",
              "    0% {\n",
              "      border-color: transparent;\n",
              "      border-bottom-color: var(--fill-color);\n",
              "      border-left-color: var(--fill-color);\n",
              "    }\n",
              "    20% {\n",
              "      border-color: transparent;\n",
              "      border-left-color: var(--fill-color);\n",
              "      border-top-color: var(--fill-color);\n",
              "    }\n",
              "    30% {\n",
              "      border-color: transparent;\n",
              "      border-left-color: var(--fill-color);\n",
              "      border-top-color: var(--fill-color);\n",
              "      border-right-color: var(--fill-color);\n",
              "    }\n",
              "    40% {\n",
              "      border-color: transparent;\n",
              "      border-right-color: var(--fill-color);\n",
              "      border-top-color: var(--fill-color);\n",
              "    }\n",
              "    60% {\n",
              "      border-color: transparent;\n",
              "      border-right-color: var(--fill-color);\n",
              "    }\n",
              "    80% {\n",
              "      border-color: transparent;\n",
              "      border-right-color: var(--fill-color);\n",
              "      border-bottom-color: var(--fill-color);\n",
              "    }\n",
              "    90% {\n",
              "      border-color: transparent;\n",
              "      border-bottom-color: var(--fill-color);\n",
              "    }\n",
              "  }\n",
              "</style>\n",
              "\n",
              "      <script>\n",
              "        async function quickchart(key) {\n",
              "          const quickchartButtonEl =\n",
              "            document.querySelector('#' + key + ' button');\n",
              "          quickchartButtonEl.disabled = true;  // To prevent multiple clicks.\n",
              "          quickchartButtonEl.classList.add('colab-df-spinner');\n",
              "          try {\n",
              "            const charts = await google.colab.kernel.invokeFunction(\n",
              "                'suggestCharts', [key], {});\n",
              "          } catch (error) {\n",
              "            console.error('Error during call to suggestCharts:', error);\n",
              "          }\n",
              "          quickchartButtonEl.classList.remove('colab-df-spinner');\n",
              "          quickchartButtonEl.classList.add('colab-df-quickchart-complete');\n",
              "        }\n",
              "        (() => {\n",
              "          let quickchartButtonEl =\n",
              "            document.querySelector('#df-d832bb26-bf18-46fa-bb52-d4587282c56f button');\n",
              "          quickchartButtonEl.style.display =\n",
              "            google.colab.kernel.accessAllowed ? 'block' : 'none';\n",
              "        })();\n",
              "      </script>\n",
              "    </div>\n",
              "\n",
              "    </div>\n",
              "  </div>\n"
            ],
            "application/vnd.google.colaboratory.intrinsic+json": {
              "type": "dataframe",
              "variable_name": "tienda",
              "summary": "{\n  \"name\": \"tienda\",\n  \"rows\": 2359,\n  \"fields\": [\n    {\n      \"column\": \"Producto\",\n      \"properties\": {\n        \"dtype\": \"category\",\n        \"num_unique_values\": 51,\n        \"samples\": [\n          \"Guitarra ac\\u00fastica\",\n          \"Bal\\u00f3n de baloncesto\",\n          \"Smartwatch\"\n        ],\n        \"semantic_type\": \"\",\n        \"description\": \"\"\n      }\n    },\n    {\n      \"column\": \"Categor\\u00eda del Producto\",\n      \"properties\": {\n        \"dtype\": \"category\",\n        \"num_unique_values\": 8,\n        \"samples\": [\n          \"Muebles\",\n          \"Deportes y diversi\\u00f3n\",\n          \"Electr\\u00f3nicos\"\n        ],\n        \"semantic_type\": \"\",\n        \"description\": \"\"\n      }\n    },\n    {\n      \"column\": \"Precio\",\n      \"properties\": {\n        \"dtype\": \"number\",\n        \"std\": 614686.7653873172,\n        \"min\": 7600.0,\n        \"max\": 2977000.0,\n        \"num_unique_values\": 1937,\n        \"samples\": [\n          2499400.0,\n          14800.0,\n          80500.0\n        ],\n        \"semantic_type\": \"\",\n        \"description\": \"\"\n      }\n    },\n    {\n      \"column\": \"Costo de env\\u00edo\",\n      \"properties\": {\n        \"dtype\": \"number\",\n        \"std\": 32860.0017825605,\n        \"min\": 0.0,\n        \"max\": 160800.0,\n        \"num_unique_values\": 753,\n        \"samples\": [\n          117800.0,\n          54700.0,\n          45600.0\n        ],\n        \"semantic_type\": \"\",\n        \"description\": \"\"\n      }\n    },\n    {\n      \"column\": \"Fecha de Compra\",\n      \"properties\": {\n        \"dtype\": \"object\",\n        \"num_unique_values\": 1018,\n        \"samples\": [\n          \"15/09/2022\",\n          \"03/06/2020\",\n          \"06/11/2021\"\n        ],\n        \"semantic_type\": \"\",\n        \"description\": \"\"\n      }\n    },\n    {\n      \"column\": \"Vendedor\",\n      \"properties\": {\n        \"dtype\": \"category\",\n        \"num_unique_values\": 14,\n        \"samples\": [\n          \"Juliana Costa\",\n          \"Mariana Herrera\",\n          \"Pedro Gomez\"\n        ],\n        \"semantic_type\": \"\",\n        \"description\": \"\"\n      }\n    },\n    {\n      \"column\": \"Lugar de Compra\",\n      \"properties\": {\n        \"dtype\": \"category\",\n        \"num_unique_values\": 19,\n        \"samples\": [\n          \"Bogot\\u00e1\",\n          \"Pereira\",\n          \"Neiva\"\n        ],\n        \"semantic_type\": \"\",\n        \"description\": \"\"\n      }\n    },\n    {\n      \"column\": \"Calificaci\\u00f3n\",\n      \"properties\": {\n        \"dtype\": \"number\",\n        \"std\": 1,\n        \"min\": 1,\n        \"max\": 5,\n        \"num_unique_values\": 5,\n        \"samples\": [\n          1,\n          2,\n          5\n        ],\n        \"semantic_type\": \"\",\n        \"description\": \"\"\n      }\n    },\n    {\n      \"column\": \"M\\u00e9todo de pago\",\n      \"properties\": {\n        \"dtype\": \"category\",\n        \"num_unique_values\": 4,\n        \"samples\": [\n          \"Nequi\",\n          \"Tarjeta de d\\u00e9bito\",\n          \"Tarjeta de cr\\u00e9dito\"\n        ],\n        \"semantic_type\": \"\",\n        \"description\": \"\"\n      }\n    },\n    {\n      \"column\": \"Cantidad de cuotas\",\n      \"properties\": {\n        \"dtype\": \"number\",\n        \"std\": 2,\n        \"min\": 1,\n        \"max\": 24,\n        \"num_unique_values\": 15,\n        \"samples\": [\n          7,\n          14,\n          8\n        ],\n        \"semantic_type\": \"\",\n        \"description\": \"\"\n      }\n    },\n    {\n      \"column\": \"lat\",\n      \"properties\": {\n        \"dtype\": \"number\",\n        \"std\": 2.2874452492678627,\n        \"min\": -4.21528,\n        \"max\": 11.54444,\n        \"num_unique_values\": 19,\n        \"samples\": [\n          4.60971,\n          4.81333,\n          2.9273\n        ],\n        \"semantic_type\": \"\",\n        \"description\": \"\"\n      }\n    },\n    {\n      \"column\": \"lon\",\n      \"properties\": {\n        \"dtype\": \"number\",\n        \"std\": 1.2178272727088486,\n        \"min\": -77.28111,\n        \"max\": -67.9239,\n        \"num_unique_values\": 19,\n        \"samples\": [\n          -74.08175,\n          -75.69611,\n          -75.28189\n        ],\n        \"semantic_type\": \"\",\n        \"description\": \"\"\n      }\n    }\n  ]\n}"
            }
          },
          "metadata": {},
          "execution_count": 37
        }
      ],
      "source": [
        "import pandas as pd\n",
        "import seaborn as sns\n",
        "import matplotlib.pyplot as plt\n",
        "\n",
        "url = \"https://raw.githubusercontent.com/alura-es-cursos/challenge1-data-science-latam/refs/heads/main/base-de-datos-challenge1-latam/tienda_1%20.csv\"\n",
        "url2 = \"https://raw.githubusercontent.com/alura-es-cursos/challenge1-data-science-latam/refs/heads/main/base-de-datos-challenge1-latam/tienda_2.csv\"\n",
        "url3 = \"https://raw.githubusercontent.com/alura-es-cursos/challenge1-data-science-latam/refs/heads/main/base-de-datos-challenge1-latam/tienda_3.csv\"\n",
        "url4 = \"https://raw.githubusercontent.com/alura-es-cursos/challenge1-data-science-latam/refs/heads/main/base-de-datos-challenge1-latam/tienda_4.csv\"\n",
        "\n",
        "tienda = pd.read_csv(url)\n",
        "tienda2 = pd.read_csv(url2)\n",
        "tienda3 = pd.read_csv(url3)\n",
        "tienda4 = pd.read_csv(url4)\n",
        "\n",
        "tienda.head()"
      ]
    },
    {
      "cell_type": "markdown",
      "source": [
        "# 1. Análisis de facturación\n",
        "\n"
      ],
      "metadata": {
        "id": "X62IW3KFUIYm"
      }
    },
    {
      "cell_type": "code",
      "source": [
        "# Añadir columna identificadora para cada tienda (ya deberías haber hecho esto anteriormente)\n",
        "tienda['Lugar de Compra'] = 'Tienda 1'\n",
        "tienda2['Lugar de Compra'] = 'Tienda 2'\n",
        "tienda3['Lugar de Compra'] = 'Tienda 3'\n",
        "tienda4['Lugar de Compra'] = 'Tienda 4'\n",
        "\n",
        "# Unir los cuatro DataFrames en uno solo (esto evita trabajar tienda por tienda)\n",
        "df_completo = pd.concat([tienda, tienda2, tienda3, tienda4], ignore_index=True)\n",
        "\n",
        "# Agrupar por tienda ('Lugar de Compra') y sumar la columna 'Precio' para calcular los ingresos totales\n",
        "ingresos_por_tienda = df_completo.groupby('Lugar de Compra')['Precio'].sum().reset_index(name='Ingreso Total')\n",
        "\n",
        "# Mostrar los ingresos totales por tienda\n",
        "print(\"\\nIngresos totales por tienda:\")\n",
        "print(ingresos_por_tienda)"
      ],
      "metadata": {
        "id": "xykobSftV64I",
        "colab": {
          "base_uri": "https://localhost:8080/"
        },
        "outputId": "fa3e11f3-37ab-40ba-c2bf-81d7896e981a"
      },
      "execution_count": 18,
      "outputs": [
        {
          "output_type": "stream",
          "name": "stdout",
          "text": [
            "\n",
            "Ingresos totales por tienda:\n",
            "  Lugar de Compra  Ingreso Total\n",
            "0        Tienda 1   1.150880e+09\n",
            "1        Tienda 2   1.116344e+09\n",
            "2        Tienda 3   1.098020e+09\n",
            "3        Tienda 4   1.038376e+09\n"
          ]
        }
      ]
    },
    {
      "cell_type": "markdown",
      "source": [
        "# 2. Ventas por categoría"
      ],
      "metadata": {
        "id": "2V_vcAPzWZmR"
      }
    },
    {
      "cell_type": "code",
      "source": [
        "# Agrupar los datos por 'Lugar de Compra' y 'Categoría del Producto'\n",
        "# Luego usamos .size() para contar cuántas veces aparece cada categoría por tienda\n",
        "ventas_por_categoria = (\n",
        "    df_completo.groupby(['Lugar de Compra', 'Categoría del Producto'])  # Agrupamos por tienda y categoría\n",
        "    .size()                                                             # Contamos el número de filas (ventas)\n",
        "    .reset_index(name='Cantidad Vendida')                               # Renombramos la columna de cuenta\n",
        ")\n",
        "\n",
        "# Mostramos el resultado: cuántos productos se vendieron por categoría en cada tienda\n",
        "print(\"Ventas por categoría en cada tienda:\")\n",
        "print(ventas_por_categoria)\n",
        "\n",
        "# Obtener la categoría más vendida en cada tienda\n",
        "# Ordenamos por tienda y cantidad vendida en orden descendente\n",
        "# Luego usamos .groupby(...).head(1) para quedarnos con la más popular\n",
        "categoria_mas_popular = (\n",
        "    ventas_por_categoria\n",
        "    .sort_values(['Lugar de Compra', 'Cantidad Vendida'], ascending=[True, False])  # Ordenamos por cantidad\n",
        "    .groupby('Lugar de Compra')                                                     # Agrupamos por tienda\n",
        "    .head(1)                                                                         # Tomamos la categoría con mayor venta por tienda\n",
        ")\n",
        "\n",
        "# Mostramos la categoría más popular en cada tienda\n",
        "print(\"\\nCategoría más popular por tienda:\")\n",
        "print(categoria_mas_popular)\n"
      ],
      "metadata": {
        "id": "A34YupIuYhfF",
        "colab": {
          "base_uri": "https://localhost:8080/"
        },
        "outputId": "75e3b2fa-ecc1-4edd-f35d-16b0db0474ec"
      },
      "execution_count": 19,
      "outputs": [
        {
          "output_type": "stream",
          "name": "stdout",
          "text": [
            "Ventas por categoría en cada tienda:\n",
            "   Lugar de Compra   Categoría del Producto  Cantidad Vendida\n",
            "0         Tienda 1  Artículos para el hogar               171\n",
            "1         Tienda 1     Deportes y diversión               284\n",
            "2         Tienda 1        Electrodomésticos               312\n",
            "3         Tienda 1             Electrónicos               448\n",
            "4         Tienda 1   Instrumentos musicales               182\n",
            "5         Tienda 1                 Juguetes               324\n",
            "6         Tienda 1                   Libros               173\n",
            "7         Tienda 1                  Muebles               465\n",
            "8         Tienda 2  Artículos para el hogar               181\n",
            "9         Tienda 2     Deportes y diversión               275\n",
            "10        Tienda 2        Electrodomésticos               305\n",
            "11        Tienda 2             Electrónicos               422\n",
            "12        Tienda 2   Instrumentos musicales               224\n",
            "13        Tienda 2                 Juguetes               313\n",
            "14        Tienda 2                   Libros               197\n",
            "15        Tienda 2                  Muebles               442\n",
            "16        Tienda 3  Artículos para el hogar               177\n",
            "17        Tienda 3     Deportes y diversión               277\n",
            "18        Tienda 3        Electrodomésticos               278\n",
            "19        Tienda 3             Electrónicos               451\n",
            "20        Tienda 3   Instrumentos musicales               177\n",
            "21        Tienda 3                 Juguetes               315\n",
            "22        Tienda 3                   Libros               185\n",
            "23        Tienda 3                  Muebles               499\n",
            "24        Tienda 4  Artículos para el hogar               201\n",
            "25        Tienda 4     Deportes y diversión               277\n",
            "26        Tienda 4        Electrodomésticos               254\n",
            "27        Tienda 4             Electrónicos               451\n",
            "28        Tienda 4   Instrumentos musicales               170\n",
            "29        Tienda 4                 Juguetes               338\n",
            "30        Tienda 4                   Libros               187\n",
            "31        Tienda 4                  Muebles               480\n",
            "\n",
            "Categoría más popular por tienda:\n",
            "   Lugar de Compra Categoría del Producto  Cantidad Vendida\n",
            "7         Tienda 1                Muebles               465\n",
            "15        Tienda 2                Muebles               442\n",
            "23        Tienda 3                Muebles               499\n",
            "31        Tienda 4                Muebles               480\n"
          ]
        }
      ]
    },
    {
      "cell_type": "markdown",
      "source": [
        "# 3. Calificación promedio de la tienda\n"
      ],
      "metadata": {
        "id": "Rq6tU_xSY3jk"
      }
    },
    {
      "cell_type": "code",
      "source": [
        "# Calcular la calificación promedio de cada tienda\n",
        "# Usamos 'groupby' para agrupar por tienda y 'mean' para sacar el promedio\n",
        "calificacion_promedio = (\n",
        "    df_completo.groupby('Lugar de Compra')['Calificación']\n",
        "    .mean()\n",
        "    .reset_index(name='Calificación Promedio')  # Renombramos la columna para claridad\n",
        ")\n",
        "\n",
        "# Mostramos los resultados\n",
        "print(\"\\nCalificación promedio de cada tienda:\")\n",
        "print(calificacion_promedio)"
      ],
      "metadata": {
        "id": "bh3jjjJwY5MU",
        "colab": {
          "base_uri": "https://localhost:8080/"
        },
        "outputId": "75928485-9a74-445f-a8ab-096d01a95335"
      },
      "execution_count": 20,
      "outputs": [
        {
          "output_type": "stream",
          "name": "stdout",
          "text": [
            "\n",
            "Calificación promedio de cada tienda:\n",
            "  Lugar de Compra  Calificación Promedio\n",
            "0        Tienda 1               3.976685\n",
            "1        Tienda 2               4.037304\n",
            "2        Tienda 3               4.048326\n",
            "3        Tienda 4               3.995759\n"
          ]
        }
      ]
    },
    {
      "cell_type": "markdown",
      "source": [
        "# 4. Productos más y menos vendidos"
      ],
      "metadata": {
        "id": "DmNp1KPBZCm-"
      }
    },
    {
      "cell_type": "code",
      "source": [
        "# Agrupar por tienda y producto, y contar cuántas veces se vendió cada producto\n",
        "ventas_por_producto = (\n",
        "    df_completo.groupby(['Lugar de Compra', 'Producto'])\n",
        "    .size()\n",
        "    .reset_index(name='Cantidad Vendida')  # Contador de ventas por producto\n",
        ")\n",
        "\n",
        "# Obtener el producto más vendido en cada tienda\n",
        "producto_mas_vendido = (\n",
        "    ventas_por_producto.sort_values(['Lugar de Compra', 'Cantidad Vendida'], ascending=[True, False])\n",
        "    .groupby('Lugar de Compra')\n",
        "    .head(1)\n",
        "    .reset_index(drop=True)\n",
        ")\n",
        "\n",
        "# Obtener el producto menos vendido en cada tienda\n",
        "producto_menos_vendido = (\n",
        "    ventas_por_producto.sort_values(['Lugar de Compra', 'Cantidad Vendida'], ascending=[True, True])\n",
        "    .groupby('Lugar de Compra')\n",
        "    .head(1)\n",
        "    .reset_index(drop=True)\n",
        ")\n",
        "\n",
        "# Mostrar resultados en consola\n",
        "print(\"\\nProducto MÁS vendido por tienda:\")\n",
        "print(producto_mas_vendido)\n",
        "\n",
        "print(\"\\nProducto MENOS vendido por tienda:\")\n",
        "print(producto_menos_vendido)"
      ],
      "metadata": {
        "id": "qoyjqijQZHfF",
        "colab": {
          "base_uri": "https://localhost:8080/"
        },
        "outputId": "92295474-a61d-4ca8-bcec-693ba477c993"
      },
      "execution_count": 21,
      "outputs": [
        {
          "output_type": "stream",
          "name": "stdout",
          "text": [
            "\n",
            "Producto MÁS vendido por tienda:\n",
            "  Lugar de Compra                   Producto  Cantidad Vendida\n",
            "0        Tienda 1                    Armario                60\n",
            "1        Tienda 2  Iniciando en programación                65\n",
            "2        Tienda 3              Kit de bancas                57\n",
            "3        Tienda 4                   Cama box                62\n",
            "\n",
            "Producto MENOS vendido por tienda:\n",
            "  Lugar de Compra                   Producto  Cantidad Vendida\n",
            "0        Tienda 1  Auriculares con micrófono                33\n",
            "1        Tienda 2              Juego de mesa                32\n",
            "2        Tienda 3    Bloques de construcción                35\n",
            "3        Tienda 4         Guitarra eléctrica                33\n"
          ]
        }
      ]
    },
    {
      "cell_type": "markdown",
      "source": [
        "# 5. Envío promedio por tienda"
      ],
      "metadata": {
        "id": "Fl0cGi3bZKqU"
      }
    },
    {
      "cell_type": "code",
      "source": [
        "# Agrupar por tienda ('Lugar de Compra') y calcular el promedio de la columna 'Costo de envío'\n",
        "costo_envio_promedio = (\n",
        "    df_completo.groupby('Lugar de Compra')['Costo de envío']\n",
        "    .mean()\n",
        "    .reset_index(name='Costo de Envío Promedio')  # Renombramos la columna del resultado\n",
        ")\n",
        "\n",
        "# Mostrar los resultados\n",
        "print(\"\\nCosto de envío promedio por tienda:\")\n",
        "print(costo_envio_promedio)"
      ],
      "metadata": {
        "id": "S2JeaCykZNy9",
        "colab": {
          "base_uri": "https://localhost:8080/"
        },
        "outputId": "283caf0f-6143-426a-f110-40968376d6c8"
      },
      "execution_count": 22,
      "outputs": [
        {
          "output_type": "stream",
          "name": "stdout",
          "text": [
            "\n",
            "Costo de envío promedio por tienda:\n",
            "  Lugar de Compra  Costo de Envío Promedio\n",
            "0        Tienda 1             26018.609580\n",
            "1        Tienda 2             25216.235693\n",
            "2        Tienda 3             24805.680373\n",
            "3        Tienda 4             23459.457167\n"
          ]
        }
      ]
    },
    {
      "cell_type": "markdown",
      "source": [
        "# 6. Gráficos"
      ],
      "metadata": {
        "id": "rugxiiffcra7"
      }
    },
    {
      "cell_type": "code",
      "source": [
        "# Simulación de los datos procesados\n",
        "ingresos = pd.DataFrame({\n",
        "    'Lugar de Compra': ['Tienda 1', 'Tienda 2', 'Tienda 3', 'Tienda 4'],\n",
        "    'Ingreso Total': [1.15088e9, 1.116344e9, 1.09802e9, 1.038376e9]\n",
        "})\n",
        "\n",
        "envio = pd.DataFrame({\n",
        "    'Lugar de Compra': ['Tienda 1', 'Tienda 2', 'Tienda 3', 'Tienda 4'],\n",
        "    'Costo de Envío Promedio': [26018.60, 25216.23, 24805.68, 23459.45]\n",
        "})\n",
        "\n",
        "categorias = pd.DataFrame({\n",
        "    'Lugar de Compra': ['Tienda 1', 'Tienda 2', 'Tienda 3', 'Tienda 4'],\n",
        "    'Categoría del Producto': ['Muebles', 'Muebles', 'Muebles', 'Muebles'],\n",
        "    'Cantidad Vendida': [465, 442, 499, 480]\n",
        "})\n",
        "\n",
        "sns.set(style=\"whitegrid\")\n",
        "\n",
        "# --- 1️⃣ Gráfico de barras apiladas: Categorías más populares ---\n",
        "plt.figure(figsize=(10, 6))\n",
        "ventas_pivot = categorias.pivot(index=\"Lugar de Compra\", columns=\"Categoría del Producto\", values=\"Cantidad Vendida\")\n",
        "ventas_pivot.plot(kind=\"bar\", stacked=True, colormap=\"tab10\", figsize=(10, 6))\n",
        "plt.title(\"📦 Categoría Más Popular por Tienda\")\n",
        "plt.ylabel(\"Cantidad Vendida\")\n",
        "plt.xlabel(\"Tienda\")\n",
        "plt.legend(title=\"Categoría\")\n",
        "plt.show()\n",
        "\n",
        "# --- 2️⃣ Gráfico de caja y bigotes: Costo de envío promedio ---\n",
        "plt.figure(figsize=(8, 5))\n",
        "sns.boxplot(data=envio, x=\"Lugar de Compra\", y=\"Costo de Envío Promedio\", palette=\"rocket\")\n",
        "plt.title(\"🚚 Variabilidad del Costo de Envío Promedio por Tienda\")\n",
        "plt.ylabel(\"Costo de Envío Promedio ($)\")\n",
        "plt.xlabel(\"Tienda\")\n",
        "plt.show()\n",
        "\n",
        "# --- 3️⃣ Gráfico de pastel: Facturación total por tienda ---\n",
        "plt.figure(figsize=(7, 7))\n",
        "plt.pie(ingresos['Ingreso Total'], labels=ingresos['Lugar de Compra'], autopct='%1.1f%%', colors=sns.color_palette('pastel'))\n",
        "plt.title(\"💰 Distribución de Facturación Total por Tienda\")\n",
        "plt.show()"
      ],
      "metadata": {
        "colab": {
          "base_uri": "https://localhost:8080/",
          "height": 1000
        },
        "collapsed": true,
        "id": "AuqtokoAXn9u",
        "outputId": "df2d4388-36df-40fd-d59d-f839d0a5ef3d"
      },
      "execution_count": 28,
      "outputs": [
        {
          "output_type": "display_data",
          "data": {
            "text/plain": [
              "<Figure size 1000x600 with 0 Axes>"
            ]
          },
          "metadata": {}
        },
        {
          "output_type": "stream",
          "name": "stderr",
          "text": [
            "/usr/local/lib/python3.11/dist-packages/IPython/core/pylabtools.py:151: UserWarning: Glyph 128230 (\\N{PACKAGE}) missing from font(s) DejaVu Sans.\n",
            "  fig.canvas.print_figure(bytes_io, **kw)\n"
          ]
        },
        {
          "output_type": "display_data",
          "data": {
            "text/plain": [
              "<Figure size 1000x600 with 1 Axes>"
            ],
            "image/png": "[encoded data removed]"
          },
          "metadata": {}
        },
        {
          "output_type": "stream",
          "name": "stderr",
          "text": [
            "<ipython-input-28-05649d46c5a1>:32: FutureWarning: \n",
            "\n",
            "Passing `palette` without assigning `hue` is deprecated and will be removed in v0.14.0. Assign the `x` variable to `hue` and set `legend=False` for the same effect.\n",
            "\n",
            "  sns.boxplot(data=envio, x=\"Lugar de Compra\", y=\"Costo de Envío Promedio\", palette=\"rocket\")\n",
            "/usr/local/lib/python3.11/dist-packages/IPython/core/pylabtools.py:151: UserWarning: Glyph 128666 (\\N{DELIVERY TRUCK}) missing from font(s) DejaVu Sans.\n",
            "  fig.canvas.print_figure(bytes_io, **kw)\n"
          ]
        },
        {
          "output_type": "display_data",
          "data": {
            "text/plain": [
              "<Figure size 800x500 with 1 Axes>"
            ],
            "image/png": "[encoded data removed]"
          },
          "metadata": {}
        },
        {
          "output_type": "stream",
          "name": "stderr",
          "text": [
            "/usr/local/lib/python3.11/dist-packages/IPython/core/pylabtools.py:151: UserWarning: Glyph 128176 (\\N{MONEY BAG}) missing from font(s) DejaVu Sans.\n",
            "  fig.canvas.print_figure(bytes_io, **kw)\n"
          ]
        },
        {
          "output_type": "display_data",
          "data": {
            "text/plain": [
              "<Figure size 700x700 with 1 Axes>"
            ],
            "image/png": "[encoded data removed]"
          },
          "metadata": {}
        }
      ]
    },
    {
      "cell_type": "markdown",
      "source": [
        "# 7. Informe final"
      ],
      "metadata": {
        "id": "PUxfi82slbE1"
      }
    },
    {
      "cell_type": "markdown",
      "source": [
        "## Informe de análisis para la venta de tienda\n",
        "\n",
        "### Introducción\n",
        "El presente informe tiene como objetivo determinar cuál tienda debería vender el Sr. Juan, basándose en un análisis detallado de cinco factores clave: facturación total, categorías de productos más y menos vendidas, calificación promedio de clientes, productos con mayor y menor demanda, y costos de envío. A través del estudio de estos aspectos y la interpretación de gráficos generados, se identifican las fortalezas y debilidades de cada tienda para tomar una decisión informada y estratégica.\n",
        "\n",
        "### Desarrollo del Análisis\n",
        "1. **Facturación Total por Tienda**:\n",
        "El análisis de ingresos muestra que la Tienda 1 tiene la mayor facturación, seguida por la Tienda 2, mientras que Tienda 4 tiene el menor rendimiento financiero. La distribución de ingresos sugiere que Tienda 1 y Tienda 2 son las opciones más sólidas en términos de rentabilidad.\n",
        "> <img src=\"https://drive.google.com/uc?id=12RiluPST5nyDq4uC1zXiOLCyhXyIhJt8\" width=\"350\" height=\"300\">\n",
        "\n",
        "2. **Categorías de Productos más y menos vendidas**\n",
        "Las categorías más vendidas en todas las tiendas son Muebles, lo que indica una demanda constante de este tipo de productos. Esto es una ventaja para la tienda que se venda, ya que sus compradores podrían estar interesados en adquirir un negocio con un segmento de mercado consolidado. No obstante, si el Sr. Juan busca diversificación, la tienda con mayor variedad de ventas sería la más atractiva.\n",
        "> <img src=\"https://drive.google.com/uc?id=18v0RH-7fHEWWdwZjG_K3hSY_pvJItJzw\" width=\"350\" height=\"300\">\n",
        "\n",
        "3. **Calificación Promedio de Clientes**\n",
        "Las evaluaciones de los clientes reflejan una ligera ventaja para Tienda 3, con la mejor calificación promedio, seguida de Tienda 2. Una calificación alta indica satisfacción del cliente y puede representar una ventaja competitiva en la venta de la tienda.\n",
        "\n",
        "4. **Productos más y menos vendidos**\n",
        "Los productos más vendidos incluyen Armario (Tienda 1), Kit de bancas (Tienda 3) y Cama box (Tienda 4). En cambio, los menos vendidos incluyen Auriculares con micrófono (Tienda 1) y Bloques de construcción (Tienda 3). La tienda que tenga mayor concentración de productos con ventas sólidas puede ser más atractiva para los compradores.\n",
        "\n",
        "5. **Coste Promedio del Envío**\n",
        "Los costos de envío más bajos están en Tienda 4, lo que podría ser una ventaja para compradores interesados en reducir gastos operativos. Sin embargo, esta tienda también es la que presenta menor facturación, lo que podría indicar menos volumen de ventas.\n",
        "> <img src=\"https://drive.google.com/uc?id=1g8CNGbD2pbU960s1aiPUoU6l9VKA0IAN\" width=\"350\" height=\"300\">\n",
        "\n",
        "### Conclusión y Recomendación\n",
        "Basándose en los factores analizados, la mejor opción para vender es Tienda 4. Aunque tiene el ingreso más bajo, es la que ofrece menores costos de envío, lo que puede representar una ventaja operativa para el comprador. Además, esta tienda puede ser más fácil de vender debido a su menor tamaño y menor inversión necesaria.\n",
        "\n",
        "Si el Sr. Juan busca maximizar ganancias en la venta, podría intentar vender Tienda 1, que tiene la mayor facturación y productos con fuerte demanda. No obstante, la competencia en esta tienda es alta y sus costos de envío son elevados, lo que podría hacer que la venta requiera mayor negociación.\n",
        "\n",
        "Finalmente, la decisión dependerá del tipo de comprador y de los objetivos del Sr. Juan: si busca una venta rápida y accesible, Tienda 4 es ideal; si prefiere una venta más rentable, Tienda 1 es la opción adecuada.\n",
        "\n",
        "Este análisis proporciona una visión clara sobre cuál tienda debería vender, considerando aspectos financieros, operativos y comerciales. La decisión final dependerá de las prioridades y expectativas del Sr. Juan."
      ],
      "metadata": {
        "id": "4NynKRZ5llq4"
      }
    }
  ]
}